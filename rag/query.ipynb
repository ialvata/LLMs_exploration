{
 "cells": [
  {
   "cell_type": "markdown",
   "metadata": {},
   "source": [
    "# A Query On The Drug Reviews"
   ]
  },
  {
   "cell_type": "code",
   "execution_count": 4,
   "metadata": {},
   "outputs": [],
   "source": [
    "import chromadb\n",
    "from chromadb.utils import embedding_functions"
   ]
  },
  {
   "cell_type": "code",
   "execution_count": 5,
   "metadata": {},
   "outputs": [
    {
     "name": "stdout",
     "output_type": "stream",
     "text": [
      "\"I feel a positive response of this medicine.\"\n",
      "\"I have not had any bad experiences with this medicine since I started taking it. I am very pleased it is working so well for me.\"\n",
      "\"Has not helped me and the side effects are rough.\"\n",
      "\"Has not helped me and the side effects are rough.\"\n",
      "\"The actual effects were great. I did not experience any negative effects except for nausea on the first couple of days. \"\n"
     ]
    }
   ],
   "source": [
    "COLLECTION_NAME = \"drug_reviews\"\n",
    "HOSTNAME = \"localhost\"\n",
    "PORT = \"8000\"\n",
    "EMBEDDING_FUNC_NAME = \"multi-qa-MiniLM-L6-cos-v1\"\n",
    "\n",
    "chroma_client = chromadb.HttpClient(host = HOSTNAME, port = PORT)\n",
    "\n",
    "embedding_func = embedding_functions.SentenceTransformerEmbeddingFunction(\n",
    "        model_name=EMBEDDING_FUNC_NAME\n",
    "    )\n",
    "collection = chroma_client.get_collection(name=COLLECTION_NAME, embedding_function=embedding_func)\n",
    "\n",
    "great_reviews = collection.query(\n",
    "    query_texts=[\"Positive reviews that discuss the patient's symptoms\"],\n",
    "    n_results=5,\n",
    "    include=[\"documents\", \"distances\", \"metadatas\"]\n",
    ")\n",
    "for review in great_reviews[\"documents\"][0]:\n",
    "    print(review)"
   ]
  },
  {
   "cell_type": "markdown",
   "metadata": {},
   "source": [
    "Notice that I asked for symptoms, and the embedding function used in the ChromaDB managed to show us reviews about drug effects/response."
   ]
  },
  {
   "cell_type": "markdown",
   "metadata": {},
   "source": []
  }
 ],
 "metadata": {
  "kernelspec": {
   "display_name": ".env_llms",
   "language": "python",
   "name": "python3"
  },
  "language_info": {
   "codemirror_mode": {
    "name": "ipython",
    "version": 3
   },
   "file_extension": ".py",
   "mimetype": "text/x-python",
   "name": "python",
   "nbconvert_exporter": "python",
   "pygments_lexer": "ipython3",
   "version": "3.10.12"
  }
 },
 "nbformat": 4,
 "nbformat_minor": 2
}
