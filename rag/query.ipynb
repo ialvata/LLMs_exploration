{
 "cells": [
  {
   "cell_type": "markdown",
   "metadata": {},
   "source": [
    "# A Query On The Drug Reviews"
   ]
  },
  {
   "cell_type": "code",
   "execution_count": 1,
   "metadata": {},
   "outputs": [],
   "source": [
    "import chromadb\n",
    "from chromadb.utils import embedding_functions"
   ]
  },
  {
   "cell_type": "code",
   "execution_count": 3,
   "metadata": {},
   "outputs": [
    {
     "name": "stdout",
     "output_type": "stream",
     "text": [
      "\"I got diagnosed the beginning of this month, after reading these reviews I was terrified of taking the meds, I took them and I was ready for the worst pain I have ever felt, but actually I had none . I was perfectly fine all night and I slept through the night . I woke up and pooped through my day , no side effects at all . Just take the meds, you will be fine .\"\n",
      "\"Excellent results with no side effects.\"\n",
      "\"Has not helped me and the side effects are rough.\"\n",
      "\"Has not helped me and the side effects are rough.\"\n",
      "\"The actual effects were great. I did not experience any negative effects except for nausea on the first couple of days. \"\n"
     ]
    }
   ],
   "source": [
    "COLLECTION_NAME = \"drug_reviews\"\n",
    "HOSTNAME = \"localhost\"\n",
    "PORT = \"8000\"\n",
    "EMBEDDING_FUNC_NAME = \"multi-qa-MiniLM-L6-cos-v1\"\n",
    "\n",
    "chroma_client = chromadb.HttpClient(host = HOSTNAME, port = PORT)\n",
    "\n",
    "embedding_func = embedding_functions.SentenceTransformerEmbeddingFunction(\n",
    "        model_name=EMBEDDING_FUNC_NAME\n",
    "    )\n",
    "collection = chroma_client.get_collection(name=COLLECTION_NAME, embedding_function=embedding_func)\n",
    "\n",
    "great_reviews = collection.query(\n",
    "    query_texts=[\"Positive reviews that discuss the patient's symptoms\"],\n",
    "    n_results=5,\n",
    "    include=[\"documents\", \"distances\", \"metadatas\"]\n",
    ")\n",
    "for review in great_reviews[\"documents\"][0]:\n",
    "    print(review)"
   ]
  },
  {
   "cell_type": "code",
   "execution_count": null,
   "metadata": {},
   "outputs": [],
   "source": []
  }
 ],
 "metadata": {
  "kernelspec": {
   "display_name": ".env_llms",
   "language": "python",
   "name": "python3"
  },
  "language_info": {
   "codemirror_mode": {
    "name": "ipython",
    "version": 3
   },
   "file_extension": ".py",
   "mimetype": "text/x-python",
   "name": "python",
   "nbconvert_exporter": "python",
   "pygments_lexer": "ipython3",
   "version": "3.10.12"
  }
 },
 "nbformat": 4,
 "nbformat_minor": 2
}
