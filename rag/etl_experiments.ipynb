{
 "cells": [
  {
   "cell_type": "markdown",
   "metadata": {},
   "source": [
    "# ChromaDB get_started"
   ]
  },
  {
   "cell_type": "code",
   "execution_count": 1,
   "metadata": {},
   "outputs": [],
   "source": [
    "import chromadb"
   ]
  },
  {
   "cell_type": "code",
   "execution_count": 2,
   "metadata": {},
   "outputs": [],
   "source": [
    "chroma_client = chromadb.HttpClient(host='localhost', port=8000)\n"
   ]
  },
  {
   "cell_type": "code",
   "execution_count": 3,
   "metadata": {},
   "outputs": [],
   "source": [
    "collection = chroma_client.create_collection(name=\"my_collection\")"
   ]
  },
  {
   "cell_type": "code",
   "execution_count": 4,
   "metadata": {},
   "outputs": [],
   "source": [
    "chroma_client.delete_collection(name=\"my_collection\")"
   ]
  },
  {
   "cell_type": "code",
   "execution_count": 3,
   "metadata": {},
   "outputs": [],
   "source": [
    "collection = chroma_client.get_or_create_collection(name=\"edmund_car_reviews\") "
   ]
  },
  {
   "cell_type": "code",
   "execution_count": 4,
   "metadata": {},
   "outputs": [
    {
     "data": {
      "text/plain": [
       "450"
      ]
     },
     "execution_count": 4,
     "metadata": {},
     "output_type": "execute_result"
    }
   ],
   "source": [
    "collection.count() # returns a list of the first 10 items in the collection"
   ]
  },
  {
   "cell_type": "code",
   "execution_count": 8,
   "metadata": {},
   "outputs": [],
   "source": [
    "collection.modify(\n",
    "    name=\"new_name\",  metadata={\"hnsw:space\": \"cosine\"} # l2 is the default\n",
    ") # Renaming, and altering the distance funtion"
   ]
  },
  {
   "cell_type": "code",
   "execution_count": 9,
   "metadata": {},
   "outputs": [
    {
     "data": {
      "text/plain": [
       "{'hnsw:space': 'cosine'}"
      ]
     },
     "execution_count": 9,
     "metadata": {},
     "output_type": "execute_result"
    }
   ],
   "source": [
    "collection.metadata"
   ]
  },
  {
   "cell_type": "markdown",
   "metadata": {},
   "source": [
    "# Importing data"
   ]
  },
  {
   "cell_type": "markdown",
   "metadata": {},
   "source": [
    "The dataset is the Edmunds-Consumer Car Ratings and Reviews, which can be found [here](https://www.kaggle.com/datasets/ankkur13/edmundsconsumer-car-ratings-and-reviews)"
   ]
  },
  {
   "cell_type": "code",
   "execution_count": 3,
   "metadata": {},
   "outputs": [],
   "source": [
    "import pandas as pd\n",
    "import os\n",
    "import pathlib\n",
    "from pathlib import Path"
   ]
  },
  {
   "cell_type": "code",
   "execution_count": 5,
   "metadata": {},
   "outputs": [
    {
     "data": {
      "text/plain": [
       "50"
      ]
     },
     "execution_count": 5,
     "metadata": {},
     "output_type": "execute_result"
    }
   ],
   "source": [
    "folder_path = Path(\"../data/edmund_car_reviews\")\n",
    "files_path = [file_path for file_path in folder_path.iterdir()if file_path.is_file()]\n",
    "len(files_path)\n",
    "# we have 50 files"
   ]
  },
  {
   "cell_type": "code",
   "execution_count": 44,
   "metadata": {},
   "outputs": [
    {
     "data": {
      "text/plain": [
       "PosixPath('data/edmund_car_reviews/Scraped_Car_Review_ford.csv')"
      ]
     },
     "execution_count": 44,
     "metadata": {},
     "output_type": "execute_result"
    }
   ],
   "source": [
    "files_path[35]"
   ]
  },
  {
   "cell_type": "code",
   "execution_count": 100,
   "metadata": {},
   "outputs": [],
   "source": [
    "import numpy as np\n",
    "dtypes = {\n",
    "        \"\": np.int8,\n",
    "        \"Review_Date\": str,\n",
    "        \"Author_Name\": str,\n",
    "        \"Vehicle_Title\": str,\n",
    "        \"Review_Title\": str,\n",
    "        \"Review\": str,\n",
    "        \"Rating\": np.float32,\n",
    "    }\n"
   ]
  },
  {
   "cell_type": "code",
   "execution_count": 103,
   "metadata": {},
   "outputs": [
    {
     "name": "stdout",
     "output_type": "stream",
     "text": [
      "<class 'pandas.core.frame.DataFrame'>\n",
      "RangeIndex: 9 entries, 0 to 8\n",
      "Data columns (total 7 columns):\n",
      " #   Column         Non-Null Count  Dtype  \n",
      "---  ------         --------------  -----  \n",
      " 0   Unnamed: 0     9 non-null      int64  \n",
      " 1   Review_Date    9 non-null      object \n",
      " 2   Author_Name    9 non-null      object \n",
      " 3   Vehicle_Title  9 non-null      object \n",
      " 4   Review_Title   9 non-null      object \n",
      " 5   Review         9 non-null      object \n",
      "        9 non-null      float64\n",
      "dtypes: float64(1), int64(1), object(5)\n",
      "memory usage: 632.0+ bytes\n"
     ]
    }
   ],
   "source": [
    "file_path = files_path[0]\n",
    "filename = Path(file_path).name\n",
    "car_reviews_df = pd.read_csv(file_path,lineterminator='\\n', dtype=dtypes)\n",
    "car_reviews_df.info()"
   ]
  },
  {
   "cell_type": "code",
   "execution_count": 105,
   "metadata": {},
   "outputs": [
    {
     "data": {
      "text/plain": [
       "'Scrapped_Car_Review_Bugatti'"
      ]
     },
     "execution_count": 105,
     "metadata": {},
     "output_type": "execute_result"
    }
   ],
   "source": [
    "filename.split(\".\")[0]"
   ]
  },
  {
   "cell_type": "code",
   "execution_count": 74,
   "metadata": {},
   "outputs": [
    {
     "data": {
      "text/html": [
       "<div>\n",
       "<style scoped>\n",
       "    .dataframe tbody tr th:only-of-type {\n",
       "        vertical-align: middle;\n",
       "    }\n",
       "\n",
       "    .dataframe tbody tr th {\n",
       "        vertical-align: top;\n",
       "    }\n",
       "\n",
       "    .dataframe thead th {\n",
       "        text-align: right;\n",
       "    }\n",
       "</style>\n",
       "<table border=\"1\" class=\"dataframe\">\n",
       "  <thead>\n",
       "    <tr style=\"text-align: right;\">\n",
       "      <th></th>\n",
       "      <th>Unnamed: 0</th>\n",
       "      <th>Review_Date</th>\n",
       "      <th>Author_Name</th>\n",
       "      <th>Vehicle_Title</th>\n",
       "      <th>Review_Title</th>\n",
       "      <th>Review</th>\n",
       "      <th>Rating\\r</th>\n",
       "    </tr>\n",
       "  </thead>\n",
       "  <tbody>\n",
       "    <tr>\n",
       "      <th>0</th>\n",
       "      <td>0</td>\n",
       "      <td>on 03/29/08 13:43 PM (PDT)</td>\n",
       "      <td>miamibeach</td>\n",
       "      <td>2007 Bugatti Veyron 16.4 Coupe 2dr Coupe AWD (...</td>\n",
       "      <td>Best Car Ever</td>\n",
       "      <td>This is the most extreme car ever, I have own...</td>\n",
       "      <td>5.00</td>\n",
       "    </tr>\n",
       "    <tr>\n",
       "      <th>1</th>\n",
       "      <td>1</td>\n",
       "      <td>on 06/11/14 10:11 AM (PDT)</td>\n",
       "      <td>ironpeddler</td>\n",
       "      <td>2008 Bugatti Veyron 16.4 Coupe 2dr Coupe AWD (...</td>\n",
       "      <td>Lovely Automoblie</td>\n",
       "      <td>I knew I had to have one once I first laid ey...</td>\n",
       "      <td>4.50</td>\n",
       "    </tr>\n",
       "    <tr>\n",
       "      <th>2</th>\n",
       "      <td>2</td>\n",
       "      <td>on 11/16/10 00:00 AM (PST)</td>\n",
       "      <td>VeyronDriver</td>\n",
       "      <td>2008 Bugatti Veyron 16.4 Coupe 2dr Coupe AWD (...</td>\n",
       "      <td>Synopsis</td>\n",
       "      <td>Have a friend who purchased a Veyron and have...</td>\n",
       "      <td>3.75</td>\n",
       "    </tr>\n",
       "    <tr>\n",
       "      <th>3</th>\n",
       "      <td>3</td>\n",
       "      <td>on 07/07/09 13:10 PM (PDT)</td>\n",
       "      <td>bugattiowner</td>\n",
       "      <td>2008 Bugatti Veyron 16.4 Coupe 2dr Coupe AWD (...</td>\n",
       "      <td>More Than a Car</td>\n",
       "      <td>After pondering which car to buy once I had t...</td>\n",
       "      <td>4.75</td>\n",
       "    </tr>\n",
       "    <tr>\n",
       "      <th>4</th>\n",
       "      <td>4</td>\n",
       "      <td>on 01/05/09 13:12 PM (PST)</td>\n",
       "      <td>AceOfRace</td>\n",
       "      <td>2008 Bugatti Veyron 16.4 Coupe 2dr Coupe AWD (...</td>\n",
       "      <td>Finest Piece Of Automotive Engineering</td>\n",
       "      <td>The Bugatti Veyron is the absolute best autom...</td>\n",
       "      <td>4.50</td>\n",
       "    </tr>\n",
       "  </tbody>\n",
       "</table>\n",
       "</div>"
      ],
      "text/plain": [
       "   Unnamed: 0                  Review_Date    Author_Name  \\\n",
       "0           0   on 03/29/08 13:43 PM (PDT)    miamibeach    \n",
       "1           1   on 06/11/14 10:11 AM (PDT)   ironpeddler    \n",
       "2           2   on 11/16/10 00:00 AM (PST)  VeyronDriver    \n",
       "3           3   on 07/07/09 13:10 PM (PDT)  bugattiowner    \n",
       "4           4   on 01/05/09 13:12 PM (PST)     AceOfRace    \n",
       "\n",
       "                                       Vehicle_Title  \\\n",
       "0  2007 Bugatti Veyron 16.4 Coupe 2dr Coupe AWD (...   \n",
       "1  2008 Bugatti Veyron 16.4 Coupe 2dr Coupe AWD (...   \n",
       "2  2008 Bugatti Veyron 16.4 Coupe 2dr Coupe AWD (...   \n",
       "3  2008 Bugatti Veyron 16.4 Coupe 2dr Coupe AWD (...   \n",
       "4  2008 Bugatti Veyron 16.4 Coupe 2dr Coupe AWD (...   \n",
       "\n",
       "                             Review_Title  \\\n",
       "0                           Best Car Ever   \n",
       "1                       Lovely Automoblie   \n",
       "2                                Synopsis   \n",
       "3                         More Than a Car   \n",
       "4  Finest Piece Of Automotive Engineering   \n",
       "\n",
       "                                              Review  Rating\\r  \n",
       "0   This is the most extreme car ever, I have own...      5.00  \n",
       "1   I knew I had to have one once I first laid ey...      4.50  \n",
       "2   Have a friend who purchased a Veyron and have...      3.75  \n",
       "3   After pondering which car to buy once I had t...      4.75  \n",
       "4   The Bugatti Veyron is the absolute best autom...      4.50  "
      ]
     },
     "execution_count": 74,
     "metadata": {},
     "output_type": "execute_result"
    }
   ],
   "source": [
    "car_reviews_df.head()"
   ]
  },
  {
   "cell_type": "code",
   "execution_count": 107,
   "metadata": {},
   "outputs": [],
   "source": [
    "if \"Rating\\r\" in car_reviews_df.columns:\n",
    "    car_reviews_df.rename(columns={\"Rating\\r\": \"Rating\"}, inplace = True)"
   ]
  },
  {
   "cell_type": "code",
   "execution_count": 108,
   "metadata": {},
   "outputs": [],
   "source": [
    "vehicle_data = car_reviews_df[\"Vehicle_Title\"].str.split(' ', expand=True)\n",
    "car_reviews_df[\"Vehicule_Date\"] = vehicle_data.iloc[:,0]\n",
    "car_reviews_df[\"Vehicule_Brand\"] = vehicle_data.iloc[:,1]\n",
    "car_reviews_df[\"Vehicule_Model\"] = vehicle_data.iloc[:,2]\n",
    "car_reviews_df[\"Vehicule_Info\"] = vehicle_data.iloc[:,2:].stack().groupby(level=0).agg(\" \".join)\n"
   ]
  },
  {
   "cell_type": "code",
   "execution_count": 115,
   "metadata": {},
   "outputs": [],
   "source": [
    "metadata = car_reviews_df[[\"Review_Title\", \"Rating\", \"Vehicule_Date\", \n",
    "                           \"Vehicule_Model\",\"Vehicule_Brand\", \"Vehicule_Info\"]].to_dict(orient=\"records\")\n",
    "reviews = car_reviews_df[\"Review\"].to_list()\n",
    "ids = [f\"{filename.split('.')[0]}_{i}\" for i in range(car_reviews_df.shape[0])]"
   ]
  },
  {
   "cell_type": "code",
   "execution_count": 116,
   "metadata": {},
   "outputs": [
    {
     "name": "stderr",
     "output_type": "stream",
     "text": [
      "/home/ivo/.cache/chroma/onnx_models/all-MiniLM-L6-v2/onnx.tar.gz: 100%|██████████| 79.3M/79.3M [00:24<00:00, 3.41MiB/s]\n"
     ]
    }
   ],
   "source": [
    "collection.add(\n",
    "    documents = reviews,\n",
    "    metadatas = metadata,\n",
    "    ids = ids\n",
    ")"
   ]
  },
  {
   "cell_type": "code",
   "execution_count": 118,
   "metadata": {},
   "outputs": [
    {
     "data": {
      "text/plain": [
       "9"
      ]
     },
     "execution_count": 118,
     "metadata": {},
     "output_type": "execute_result"
    }
   ],
   "source": [
    "collection.count()"
   ]
  },
  {
   "cell_type": "code",
   "execution_count": 121,
   "metadata": {},
   "outputs": [
    {
     "data": {
      "text/plain": [
       "{'ids': ['Scrapped_Car_Review_Bugatti_0'],\n",
       " 'embeddings': None,\n",
       " 'metadatas': [{'Rating': 5.0,\n",
       "   'Review_Title': 'Best Car Ever',\n",
       "   'Vehicule_Brand': 'Bugatti',\n",
       "   'Vehicule_Date': '2007',\n",
       "   'Vehicule_Info': 'Veyron 16.4 Coupe 2dr Coupe AWD (8.0L 16cyl Turbo 7AM)',\n",
       "   'Vehicule_Model': 'Veyron'}],\n",
       " 'documents': [' This is the most extreme car ever, I have owned almost every supercar and the Veyron is in a whole new level.  When you drive this kind of car no one cares about fuel economy, you only care about the experience.'],\n",
       " 'data': None,\n",
       " 'uris': None}"
      ]
     },
     "execution_count": 121,
     "metadata": {},
     "output_type": "execute_result"
    }
   ],
   "source": [
    "collection.get(ids=['Scrapped_Car_Review_Bugatti_0'])"
   ]
  },
  {
   "cell_type": "code",
   "execution_count": null,
   "metadata": {},
   "outputs": [],
   "source": []
  }
 ],
 "metadata": {
  "kernelspec": {
   "display_name": ".env_llms",
   "language": "python",
   "name": "python3"
  },
  "language_info": {
   "codemirror_mode": {
    "name": "ipython",
    "version": 3
   },
   "file_extension": ".py",
   "mimetype": "text/x-python",
   "name": "python",
   "nbconvert_exporter": "python",
   "pygments_lexer": "ipython3",
   "version": "3.10.12"
  }
 },
 "nbformat": 4,
 "nbformat_minor": 2
}
